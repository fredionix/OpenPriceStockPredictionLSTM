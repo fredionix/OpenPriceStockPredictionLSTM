{
  "nbformat": 4,
  "nbformat_minor": 0,
  "metadata": {
    "colab": {
      "name": "LSTM Model Predict Open Stock Price IBM.ipynb",
      "version": "0.3.2",
      "provenance": [],
      "include_colab_link": true
    },
    "language_info": {
      "mimetype": "text/x-python",
      "nbconvert_exporter": "python",
      "version": "3.5.5",
      "name": "python",
      "pygments_lexer": "ipython3",
      "file_extension": ".py",
      "codemirror_mode": {
        "version": 3,
        "name": "ipython"
      }
    },
    "kernelspec": {
      "display_name": "Python 3.5",
      "name": "python3",
      "language": "python"
    }
  },
  "cells": [
    {
      "cell_type": "markdown",
      "metadata": {
        "id": "view-in-github",
        "colab_type": "text"
      },
      "source": [
        "<a href=\"https://colab.research.google.com/github/fredionix/OpenPriceStockPredictionLSTM/blob/master/LSTM_Model_Predict_Open_Stock_Price_IBM.ipynb\" target=\"_parent\"><img src=\"https://colab.research.google.com/assets/colab-badge.svg\" alt=\"Open In Colab\"/></a>"
      ]
    },
    {
      "cell_type": "code",
      "metadata": {
        "id": "oQG76XgN5s5N",
        "colab_type": "code",
        "outputId": "6fcd7730-eace-4826-c38a-c77ef891c304",
        "colab": {
          "base_uri": "https://localhost:8080/",
          "height": 34
        }
      },
      "source": [
        "#import semua library yang dibutuhkan\n",
        "import pandas as pd\n",
        "import matplotlib.pyplot as plt\n",
        "from sklearn.preprocessing import MinMaxScaler\n",
        "import numpy as np\n",
        "from keras.models import Sequential\n",
        "from keras.layers import Dense\n",
        "from keras.layers import LSTM\n",
        "import math\n",
        "from sklearn.metrics import mean_squared_error\n",
        "from sklearn.model_selection import train_test_split\n",
        "from keras.layers import Activation, Dense, Dropout\n",
        "import io"
      ],
      "execution_count": 1,
      "outputs": [
        {
          "output_type": "stream",
          "text": [
            "Using TensorFlow backend.\n"
          ],
          "name": "stderr"
        }
      ]
    },
    {
      "cell_type": "code",
      "metadata": {
        "id": "Qq24OqXp5s5z",
        "colab_type": "code",
        "outputId": "b6caa263-356c-4e7c-d7f0-74a5f55b76cc",
        "colab": {
          "base_uri": "https://localhost:8080/",
          "height": 376
        }
      },
      "source": [
        "\n",
        "import types\n",
        "import pandas as pd\n",
        "from botocore.client import Config\n",
        "import ibm_boto3\n",
        "\n",
        "def __iter__(self): return 0\n",
        "\n",
        "# @hidden_cell\n",
        "# The following code accesses a file in your IBM Cloud Object Storage. It includes your credentials.\n",
        "# You might want to remove those credentials before you share your notebook.\n",
        "client_ecabbec5cf074364891db8919da0e5dc = ibm_boto3.client(service_name='s3',\n",
        "    ibm_api_key_id='QrodoBOlILG9oF_e0VdL6jCzNTfbKWMxaJqrkO0CvwFq',\n",
        "    ibm_auth_endpoint=\"https://iam.bluemix.net/oidc/token\",\n",
        "    config=Config(signature_version='oauth'),\n",
        "    endpoint_url='https://s3-api.us-geo.objectstorage.service.networklayer.com')\n",
        "\n",
        "body = client_ecabbec5cf074364891db8919da0e5dc.get_object(Bucket='assignment1-donotdelete-pr-uzd1pjjuaei5zu',Key='AAPL.csv')['Body']\n",
        "# add missing __iter__ method, so pandas accepts body as file-like object\n",
        "if not hasattr(body, \"__iter__\"): body.__iter__ = types.MethodType( __iter__, body )\n",
        "\n",
        "dataset = pd.read_csv(body)\n",
        "dataset.head()\n",
        "\n"
      ],
      "execution_count": 2,
      "outputs": [
        {
          "output_type": "error",
          "ename": "ModuleNotFoundError",
          "evalue": "ignored",
          "traceback": [
            "\u001b[0;31m---------------------------------------------------------------------------\u001b[0m",
            "\u001b[0;31mModuleNotFoundError\u001b[0m                       Traceback (most recent call last)",
            "\u001b[0;32m<ipython-input-2-1bbc5c0ffbfc>\u001b[0m in \u001b[0;36m<module>\u001b[0;34m()\u001b[0m\n\u001b[1;32m      3\u001b[0m \u001b[0;32mimport\u001b[0m \u001b[0mpandas\u001b[0m \u001b[0;32mas\u001b[0m \u001b[0mpd\u001b[0m\u001b[0;34m\u001b[0m\u001b[0;34m\u001b[0m\u001b[0m\n\u001b[1;32m      4\u001b[0m \u001b[0;32mfrom\u001b[0m \u001b[0mbotocore\u001b[0m\u001b[0;34m.\u001b[0m\u001b[0mclient\u001b[0m \u001b[0;32mimport\u001b[0m \u001b[0mConfig\u001b[0m\u001b[0;34m\u001b[0m\u001b[0;34m\u001b[0m\u001b[0m\n\u001b[0;32m----> 5\u001b[0;31m \u001b[0;32mimport\u001b[0m \u001b[0mibm_boto3\u001b[0m\u001b[0;34m\u001b[0m\u001b[0;34m\u001b[0m\u001b[0m\n\u001b[0m\u001b[1;32m      6\u001b[0m \u001b[0;34m\u001b[0m\u001b[0m\n\u001b[1;32m      7\u001b[0m \u001b[0;32mdef\u001b[0m \u001b[0m__iter__\u001b[0m\u001b[0;34m(\u001b[0m\u001b[0mself\u001b[0m\u001b[0;34m)\u001b[0m\u001b[0;34m:\u001b[0m \u001b[0;32mreturn\u001b[0m \u001b[0;36m0\u001b[0m\u001b[0;34m\u001b[0m\u001b[0;34m\u001b[0m\u001b[0m\n",
            "\u001b[0;31mModuleNotFoundError\u001b[0m: No module named 'ibm_boto3'",
            "",
            "\u001b[0;31m---------------------------------------------------------------------------\u001b[0;32m\nNOTE: If your import is failing due to a missing package, you can\nmanually install dependencies using either !pip or !apt.\n\nTo view examples of installing some common dependencies, click the\n\"Open Examples\" button below.\n\u001b[0;31m---------------------------------------------------------------------------\u001b[0m\n"
          ]
        }
      ]
    },
    {
      "cell_type": "code",
      "metadata": {
        "id": "_5mh02PI5s6E",
        "colab_type": "code",
        "colab": {}
      },
      "source": [
        "print(\"checking if any null values are present\\n\", dataset.isna().sum())\n",
        "\n",
        "\n",
        "dataset = dataset.drop(dataset.index[0]) #drop first index row, start with row 1, for easy split\n",
        "#print(dataset)#print un droped dataset\n",
        "\n",
        "#print(\"data set index 0 \", dataset.index[0])\n",
        "dataset = dataset.drop(['Date'], axis=1) #drop date collumn\n",
        "#print(dataset)#print un droped dataset\n",
        "\n",
        "\n",
        "#print(dataset)#print un droped dataset\n",
        "target = dataset.iloc[:,0]#select all rows and first collumn as target, open collumn as target for y test 33 and ytrain 66 \n",
        "target =target.values#get values of open collumn\n",
        "\n",
        "#print(target)\n",
        "data = dataset.iloc[:,1:] #select all rows, from index 1 column to last collumn index, eliminate open col as target\n",
        "data=data.values #getthe values of each row put it in the list\n",
        "data = data.astype('float32')#declare float32 as type\n",
        "\n",
        "scaler = MinMaxScaler(feature_range=(0, 1)) #create to scaling from 0-1 object range\n",
        "data = scaler.fit_transform(data)#transform the values to 0-1 only\n",
        "\n",
        "#load\n",
        "X_train, X_test, y_train, y_test = train_test_split(data, target, test_size=0.2,train_size=0.8, random_state=42) #split to 33% test size, data go to x, test go to y, random state for initial shufling in the split process\n",
        "\n",
        "#print bentuk xtrain ytrain xtest ytest\n",
        "\n",
        "print(\"Please show me the shape of X_train:\",X_train.shape)\n",
        "print(\"Please show me the shape of X_test:\",X_test.shape)\n",
        "print(\"Please show me the shape of y_train:\",y_train.shape)\n",
        "print(\"Please show me the shape of y_test:\",y_test.shape)"
      ],
      "execution_count": 0,
      "outputs": []
    },
    {
      "cell_type": "code",
      "metadata": {
        "id": "nOBH6JbJ5s6U",
        "colab_type": "code",
        "colab": {}
      },
      "source": [
        "#reshape with format: row, 1, cols with train is 66% of row, in this case 25\n",
        "X_train = np.reshape(X_train,(X_train.shape[0],1,X_train.shape[1]))\n",
        "#reshape with format: row, 1, cols with train is 66% of row, in this case 83\n",
        "X_test = np.reshape(X_test,(X_test.shape[0],1,X_test.shape[1]))\n",
        "print(\"Please show me the shape of X_test:\",X_test.shape)\n",
        "print(\"Please show me the shape of X_train:\",X_train.shape)"
      ],
      "execution_count": 0,
      "outputs": []
    },
    {
      "cell_type": "code",
      "metadata": {
        "id": "_PySGPTo5s6n",
        "colab_type": "code",
        "colab": {}
      },
      "source": [
        "model = Sequential()\n",
        "model.add(LSTM(125, input_shape=(1,5))) #input shape same the structure we reshaping\n",
        "model.add(Dense(1)) #ini output layer\n",
        "#ini continuous data bukan discrete, jadi algo lossnya men_squared error\n",
        "model.compile(loss='mean_squared_error', optimizer='sgd')\n",
        "#data is trained here"
      ],
      "execution_count": 0,
      "outputs": []
    },
    {
      "cell_type": "code",
      "metadata": {
        "id": "WX41XhSb5s6v",
        "colab_type": "code",
        "colab": {}
      },
      "source": [
        "model.fit(X_train, y_train, epochs=1000, batch_size=10, verbose=1) #set verbose to 1 to keep up log, use 1000 epoch for 100 iteration training model\n",
        "#prediction using X_test\n",
        "Predict = model.predict(X_test) #predict x test for open data col\n",
        "testScore = math.sqrt(mean_squared_error(y_test, Predict))#calculate test score\n"
      ],
      "execution_count": 0,
      "outputs": []
    },
    {
      "cell_type": "code",
      "metadata": {
        "id": "-mAxEjQg5s65",
        "colab_type": "code",
        "colab": {}
      },
      "source": [
        "from matplotlib import pyplot\n",
        "print('Test Score: %.2f RMSE' % (testScore))\n",
        "\n",
        "\n",
        "plt.plot(y_test)#original value that we split\n",
        "plt.plot(Predict)#prediction from xtest with the model keras\n",
        "plt.legend(['original value','predicted value'],loc='upper right')\n",
        "plt.show()"
      ],
      "execution_count": 0,
      "outputs": []
    },
    {
      "cell_type": "code",
      "metadata": {
        "id": "OQsw_cwD5s7E",
        "colab_type": "code",
        "colab": {}
      },
      "source": [
        "model.save('model.h5')#save the model\n"
      ],
      "execution_count": 0,
      "outputs": []
    },
    {
      "cell_type": "code",
      "metadata": {
        "id": "Ew7b_6a45s7P",
        "colab_type": "code",
        "colab": {}
      },
      "source": [
        ""
      ],
      "execution_count": 0,
      "outputs": []
    }
  ]
}